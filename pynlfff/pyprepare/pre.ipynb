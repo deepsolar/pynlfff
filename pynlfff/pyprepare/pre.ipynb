{
 "cells": [
  {
   "cell_type": "code",
   "execution_count": 1,
   "metadata": {},
   "outputs": [],
   "source": [
    "\n",
    "import pandas as pd\n",
    "import os\n",
    "import shutil\n"
   ]
  },
  {
   "cell_type": "code",
   "execution_count": 2,
   "metadata": {},
   "outputs": [],
   "source": [
    "# !pip install sunpy -i https://pypi.tuna.tsinghua.edu.cn/simple\n",
    "# !pip install drms -i https://pypi.tuna.tsinghua.edu.cn/simple\n"
   ]
  },
  {
   "cell_type": "code",
   "execution_count": 3,
   "metadata": {},
   "outputs": [],
   "source": [
    "from prepare_base import PrepareWorker\n",
    "\n",
    "\n",
    "\n",
    "\n",
    "### demo test ###\n",
    "def demo_fun_use_Bptr(p_raw_path,t_raw_path,r_raw_path,sroot):\n",
    "    # config\n",
    "    # p_raw_path = r\"/media/zander/Data/now/work-inner/sun/LINFF/data/hmi.sharp_cea_720s.377.20110215_020000_TAI.Bp.fits\"\n",
    "    # t_raw_path = r\"/media/zander/Data/now/work-inner/sun/LINFF/data/hmi.sharp_cea_720s.377.20110215_020000_TAI.Bt.fits\"\n",
    "    # r_raw_path = r\"/media/zander/Data/now/work-inner/sun/LINFF/data/hmi.sharp_cea_720s.377.20110215_020000_TAI.Br.fits\"\n",
    "    # sroot=r\"/public1/home/sc81826/temp/out\"\n",
    "    # create object\n",
    "    os.makedirs(sroot,exist_ok=True)\n",
    "    shutil.copyfile(p_raw_path,sroot+\"/Bp.fits\")\n",
    "    shutil.copyfile(r_raw_path,sroot+\"/Br.fits\")\n",
    "    shutil.copyfile(t_raw_path,sroot+\"/Bt.fits\")\n",
    "    pre_worker = PrepareWorker()\n",
    "    # pre\n",
    "    pre_worker.prepare_from_fits_Bprt(p_raw_path,t_raw_path,r_raw_path,sroot)\n",
    "    # print(\"finish demo_fun_use_Bptr_local\")\n",
    "\n",
    "\n",
    "\n",
    "def deal_one(sample):\n",
    "\n",
    "    bp=job_root+sample[\"bp\"]\n",
    "    bt=job_root+sample[\"bt\"]\n",
    "    br=job_root+sample[\"br\"]\n",
    "    HARP_NUM=sample[\"HARP_NUM\"]\n",
    "    HARPNUM_TREC=sample[\"HARPNUM_TREC\"]\n",
    "    save_p=os.path.join(save_root,str(HARP_NUM),\"hmi.sharp_cea_720s.{}\".format(HARPNUM_TREC))\n",
    "    demo_fun_use_Bptr(p_raw_path=bp,t_raw_path=bt,r_raw_path=br,sroot=save_p)\n"
   ]
  },
  {
   "cell_type": "code",
   "execution_count": 4,
   "metadata": {},
   "outputs": [],
   "source": [
    "job_path=\"/home/bingxing2/home/scx6069/zzr/data/nlfff_append/nlfff_need_append_202404160610.csv\"\n",
    "job_root=\"/home/bingxing2/home/scx6069/zzr/data/nlfff_append/content/jsoc1.stanford.edu\"\n",
    "save_root=\"/home/bingxing2/home/scx6069/zzr/data/nlfff_append/product\"\n",
    "jobscsv=pd.read_csv(job_path)\n"
   ]
  },
  {
   "cell_type": "code",
   "execution_count": 5,
   "metadata": {},
   "outputs": [
    {
     "data": {
      "text/plain": [
       "33536"
      ]
     },
     "execution_count": 5,
     "metadata": {},
     "output_type": "execute_result"
    }
   ],
   "source": [
    "len(jobscsv)"
   ]
  },
  {
   "cell_type": "code",
   "execution_count": 6,
   "metadata": {},
   "outputs": [],
   "source": [
    "\n",
    "# this_id_list=list(range(len(jobscsv)))\n",
    "\n",
    "# sucess=[]\n",
    "# fail=[]\n",
    "# i=0\n",
    "# for jobid in this_id_list:\n",
    "#     sample=jobscsv.loc[jobid]\n",
    "#     try:\n",
    "#         deal_one(sample)\n",
    "#         sucess.append(jobid)\n",
    "#     except BaseException as e:\n",
    "#         print(e)\n",
    "#         sucess.append(jobid)\n",
    "#     i+=1\n",
    "#     if i%100==0:\n",
    "#         print(i)\n",
    "#     # break\n",
    "    "
   ]
  },
  {
   "cell_type": "code",
   "execution_count": 7,
   "metadata": {},
   "outputs": [],
   "source": [
    "import multiprocessing\n",
    "import pandas as pd\n",
    "\n",
    "# 假设这是你的任务处理函数\n",
    "# def deal_one(sample):\n",
    "#     # 处理任务的代码\n",
    "#     pass\n",
    "\n",
    "# # 假设这是你的任务列表\n",
    "# jobscsv = pd.DataFrame(...)  # 假设这里是你的任务数据\n",
    "\n",
    "# 定义处理任务的函数\n",
    "def process_job(jobid):\n",
    "    sample = jobscsv.loc[jobid]\n",
    "    try:\n",
    "        deal_one(sample)\n",
    "        return jobid, True  # 处理成功\n",
    "    except Exception as e:\n",
    "        print(f\"Error processing job {jobid}: {e}\")\n",
    "        return jobid, False  # 处理失败\n",
    "\n",
    "if False: #__name__ == \"__main__\":\n",
    "    this_id_list = list(range(len(jobscsv)))\n",
    "    pool = multiprocessing.Pool(processes=100)  # 创建进程池，最多同时运行100个进程\n",
    "    results = pool.map(process_job, this_id_list)  # 并发处理任务列表\n",
    "    pool.close()\n",
    "    pool.join()\n",
    "\n",
    "    # 处理处理成功和失败的任务\n",
    "    success = [jobid for jobid, status in results if status]\n",
    "    failure = [jobid for jobid, status in results if not status]\n",
    "\n",
    "    print(f\"Successfully processed {len(success)} jobs.\")\n",
    "    print(f\"Failed to process {len(failure)} jobs.\")\n"
   ]
  },
  {
   "cell_type": "code",
   "execution_count": 1,
   "metadata": {},
   "outputs": [],
   "source": [
    "import pandas as pd\n",
    "import random\n",
    "\n",
    "# 读取CSV文件\n",
    "job_path=\"/home/bingxing2/home/scx6069/zzr/data/nlfff_append/run2/nlfff_need_append_202404160610.csv\"\n",
    "\n",
    "df = pd.read_csv(job_path)\n",
    "\n",
    "# 随机打乱数据\n",
    "random.seed(123)  # 设置随机种子，保证每次结果一致\n",
    "df_shuffled = df.sample(frac=1).reset_index(drop=True)\n",
    "\n",
    "# 分成part个部分\n",
    "part=16\n",
    "total_rows = len(df_shuffled)\n",
    "part_size = total_rows // part\n",
    "parts = [df_shuffled[i*part_size:(i+1)*part_size] for i in range(part)]\n",
    "\n",
    "# 保存分割后的数据\n",
    "for i, part_df in enumerate(parts):\n",
    "    part_df.to_csv(job_path+f'.part_{i+1}.csv', index=False)\n"
   ]
  }
 ],
 "metadata": {
  "kernelspec": {
   "display_name": "py38cput2",
   "language": "python",
   "name": "python3"
  },
  "language_info": {
   "codemirror_mode": {
    "name": "ipython",
    "version": 3
   },
   "file_extension": ".py",
   "mimetype": "text/x-python",
   "name": "python",
   "nbconvert_exporter": "python",
   "pygments_lexer": "ipython3",
   "version": "3.8.17"
  }
 },
 "nbformat": 4,
 "nbformat_minor": 2
}
