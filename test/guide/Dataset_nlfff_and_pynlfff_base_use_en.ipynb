{
  "cells": [
    {
      "attachments": {},
      "cell_type": "markdown",
      "metadata": {
        "id": "yeEPX5kNASY2"
      },
      "source": [
        "# 写在前面\n",
        "\n",
        "这个笔记介绍NLFFF数据集和pynlfff工具包基本使用方法。\n",
        "\n",
        "\n",
        "## 说明\n",
        "\n",
        "工具包分为数据集建造和产品使用两部分。\n",
        "\n",
        "\n",
        "### 数据集建造\n",
        "\n",
        "+ 数据集建造目前有cpu版本，可以在 [pynlfff github](https://github.com/deepsolar/pynlfff/tree/master/pynlfff) 找到数据集建造相关程序\n",
        "\n",
        "\n",
        "\n",
        "### 三维磁场数据产品使用\n",
        "\n",
        "+ 产品使用分为基本使用和基于工具包的使用两部分。\n",
        "\n",
        "    + 我们将工具包中基本使用方法提炼出来了，以帮助不方便下载完整工具包和希望借鉴思路通过其他语言实现的研究者。 \n",
        "\n",
        "    + 基于工具包的使用我们提供了一些稍微高阶功能，如可视化等，后续将追加更多功能。\n",
        "\n",
        "\n",
        "> notebook可以[点击这里下载](https://github.com/deepsolar/pynlfff/blob/main/test/guide/Dataset_nlfff_and_pynlfff_base_use_zh.ipynb)，也可以[点击这里在colab中打开](https://drive.google.com/file/d/1Nx3xW4N8B2-W5FybV_fjP_ngoxJDp0HI/view?usp=sharing)， html版本可以在[这里查看](https://github.com/deepsolar/pynlfff/blob/main/test/guide/Dataset_nlfff_and_pynlfff_base_use_zh.html)\n",
        "\n",
        "\n",
        "\n"
      ]
    },
    {
      "cell_type": "markdown",
      "metadata": {
        "id": "Lvg2Icp3Ex1F"
      },
      "source": [
        "# 数据集和标签\n",
        "\n",
        "\n"
      ]
    },
    {
      "cell_type": "markdown",
      "metadata": {
        "id": "DjiI4Yk5B0Qt"
      },
      "source": [
        "## 下载数据集摘要信息"
      ]
    },
    {
      "cell_type": "code",
      "execution_count": null,
      "metadata": {
        "colab": {
          "base_uri": "https://localhost:8080/"
        },
        "id": "R63KoCB8Ab2F",
        "outputId": "0571a625-3953-4ec2-b571-3bcbe3583a96"
      },
      "outputs": [],
      "source": [
        "# 下载数据集摘要信息\n",
        "!wget https://figshare.com/ndownloader/files/39406012 -O dataset_info.zip"
      ]
    },
    {
      "cell_type": "code",
      "execution_count": null,
      "metadata": {
        "colab": {
          "base_uri": "https://localhost:8080/"
        },
        "id": "pz6G_nMLAxBJ",
        "outputId": "28ae24fb-836b-46d9-d729-6377704ca041"
      },
      "outputs": [],
      "source": [
        "# 解压数据集摘要信息\n",
        "!unzip dataset_info.zip"
      ]
    },
    {
      "cell_type": "markdown",
      "metadata": {
        "id": "ERn5qyWfBTMn"
      },
      "source": [
        "## 下载标签信息"
      ]
    },
    {
      "cell_type": "code",
      "execution_count": null,
      "metadata": {
        "colab": {
          "base_uri": "https://localhost:8080/"
        },
        "id": "Q7V-haYVBQ8l",
        "outputId": "f8e8c0b8-ae5f-4aab-a731-658cc4d8bf02"
      },
      "outputs": [],
      "source": [
        "!wget https://figshare.com/ndownloader/files/39406015 -O dataset_label.zip"
      ]
    },
    {
      "cell_type": "code",
      "execution_count": null,
      "metadata": {
        "colab": {
          "base_uri": "https://localhost:8080/"
        },
        "id": "uFbfiqoTBksw",
        "outputId": "42ffd938-8fd2-4404-f918-02e8fb53ccff"
      },
      "outputs": [],
      "source": [
        "!unzip dataset_label.zip"
      ]
    },
    {
      "cell_type": "markdown",
      "metadata": {
        "id": "e7hJOdl8Brhc"
      },
      "source": [
        "## 下载数据库归档信息"
      ]
    },
    {
      "cell_type": "code",
      "execution_count": null,
      "metadata": {
        "colab": {
          "base_uri": "https://localhost:8080/"
        },
        "id": "ZjJQW8aHB6Gb",
        "outputId": "2d8175ef-3a86-4b76-dea6-a2f3b8139610"
      },
      "outputs": [],
      "source": [
        "!wget https://figshare.com/ndownloader/files/39406063 -O dataset_archive.zip"
      ]
    },
    {
      "cell_type": "code",
      "execution_count": null,
      "metadata": {
        "colab": {
          "base_uri": "https://localhost:8080/"
        },
        "id": "0N8WIdnxCHQm",
        "outputId": "416bcb8b-e191-406b-b84f-6d6df17a36eb"
      },
      "outputs": [],
      "source": [
        "!unzip dataset_archive.zip"
      ]
    },
    {
      "cell_type": "code",
      "execution_count": null,
      "metadata": {
        "id": "Nz347BL-CiT_"
      },
      "outputs": [],
      "source": [
        "nlfff_path_dataset_summary=\"nlfff-dataset-info\"\n",
        "nlfff_path_dataset_label=\"nlfff-dataset-flare-label\"\n",
        "nlfff_path_dataset_archive=\"nlfff-dataset-and-flare-label-db-archive\""
      ]
    },
    {
      "cell_type": "markdown",
      "metadata": {
        "id": "R1SDySEEDCO-"
      },
      "source": [
        "# 使用数据集摘要信息"
      ]
    },
    {
      "cell_type": "markdown",
      "metadata": {
        "id": "s7b129O8D3nC"
      },
      "source": [
        "## 读取配置"
      ]
    },
    {
      "cell_type": "code",
      "execution_count": null,
      "metadata": {
        "id": "InblwoBjDLmg"
      },
      "outputs": [],
      "source": [
        "import os\n",
        "import json\n",
        "\n",
        "# 读取配置文件\n",
        "nlfff_path_dataset_summary=\"nlfff-dataset-info\"\n",
        "config_path=os.path.join(nlfff_path_dataset_summary,\"config.json\")\n",
        "with open(config_path,\"r\") as f:\n",
        "    config_ds=json.loads(f.read())"
      ]
    },
    {
      "cell_type": "code",
      "execution_count": null,
      "metadata": {
        "colab": {
          "base_uri": "https://localhost:8080/"
        },
        "id": "w2vAdW7fDwY_",
        "outputId": "2118ace7-d092-44b1-df28-a047fb53e446"
      },
      "outputs": [],
      "source": [
        "config_ds"
      ]
    },
    {
      "cell_type": "markdown",
      "metadata": {
        "id": "1DF31p-nD7aM"
      },
      "source": [
        "## 读取原始头文件信息"
      ]
    },
    {
      "cell_type": "code",
      "execution_count": null,
      "metadata": {
        "colab": {
          "base_uri": "https://localhost:8080/"
        },
        "id": "XA0Q9MFBD1mg",
        "outputId": "d2efd48c-2f07-4ace-d9f3-0fce6622b677"
      },
      "outputs": [],
      "source": [
        "import pandas\n",
        "import os\n",
        "\n",
        "raw_info_path=os.path.join(\n",
        "  nlfff_path_dataset_summary,\n",
        "  config_ds[\"raw_summary_info_path\"]\n",
        ")\n",
        "raw_info=pandas.read_csv(raw_info_path)"
      ]
    },
    {
      "cell_type": "code",
      "execution_count": null,
      "metadata": {
        "colab": {
          "base_uri": "https://localhost:8080/",
          "height": 991
        },
        "id": "9IT1qbzvEUF_",
        "outputId": "543118a5-d4e9-4f23-a7ed-4f0a73997f21"
      },
      "outputs": [],
      "source": [
        "raw_info"
      ]
    },
    {
      "cell_type": "markdown",
      "metadata": {
        "id": "UNkwPihFEgB-"
      },
      "source": [
        "## 读取产品文件信息\n",
        "\n",
        "记录三维磁场数据库产品的一些基本信息"
      ]
    },
    {
      "cell_type": "code",
      "execution_count": null,
      "metadata": {
        "id": "qYDztTT0EXhm"
      },
      "outputs": [],
      "source": [
        "product_info_path=os.path.join(\n",
        "  nlfff_path_dataset_summary,\n",
        "  config_ds[\"product_summary_info_path\"]\n",
        ")\n",
        "product_info=pandas.read_csv(product_info_path)"
      ]
    },
    {
      "cell_type": "code",
      "execution_count": null,
      "metadata": {
        "colab": {
          "base_uri": "https://localhost:8080/",
          "height": 748
        },
        "id": "NwfTj5QoEtaz",
        "outputId": "dc188ebd-b29d-4a74-a2d9-4e4de8dcc9ed"
      },
      "outputs": [],
      "source": [
        "product_info"
      ]
    },
    {
      "cell_type": "markdown",
      "metadata": {
        "id": "98CYX2dxFTJd"
      },
      "source": [
        "# 使用标签信息"
      ]
    },
    {
      "cell_type": "markdown",
      "metadata": {
        "id": "joeBnL5eFYpP"
      },
      "source": [
        "## 读取配置"
      ]
    },
    {
      "cell_type": "code",
      "execution_count": null,
      "metadata": {
        "id": "2G56E-BKFz0A"
      },
      "outputs": [],
      "source": [
        "import os\n",
        "import json\n",
        "\n",
        "# 读取配置文件\n",
        "nlfff_path_dataset_label=\"nlfff-dataset-flare-label\"\n",
        "config_path=os.path.join(nlfff_path_dataset_label,\"config.json\")\n",
        "with open(config_path,\"r\") as f:\n",
        "    config_label=json.loads(f.read())"
      ]
    },
    {
      "cell_type": "code",
      "execution_count": null,
      "metadata": {
        "colab": {
          "base_uri": "https://localhost:8080/"
        },
        "id": "8-bidRQdF8rt",
        "outputId": "fa5addca-2b57-4255-f053-6761e152a7ab"
      },
      "outputs": [],
      "source": [
        "config_label"
      ]
    },
    {
      "cell_type": "markdown",
      "metadata": {
        "id": "DQRj2sK4GgF8"
      },
      "source": [
        "## 标签信息"
      ]
    },
    {
      "cell_type": "code",
      "execution_count": null,
      "metadata": {
        "id": "KLMaPiaKGi30"
      },
      "outputs": [],
      "source": [
        "label_info_path=os.path.join(\n",
        "    nlfff_path_dataset_label,\n",
        "    config_label[\"label_info_path\"]\n",
        ")\n",
        "label_info=pandas.read_csv(label_info_path)"
      ]
    },
    {
      "cell_type": "code",
      "execution_count": null,
      "metadata": {
        "colab": {
          "base_uri": "https://localhost:8080/",
          "height": 661
        },
        "id": "LJYt1WpnG6ZY",
        "outputId": "88d4b5f8-6dc0-49d6-d9e4-d089ede05a8c"
      },
      "outputs": [],
      "source": [
        "label_info"
      ]
    },
    {
      "cell_type": "markdown",
      "metadata": {
        "id": "84kcrXRSHFQI"
      },
      "source": [
        "## 耀斑信息\n",
        "\n",
        "记录耀斑详细信息，如果需要耀斑详细信息可以执行此步。"
      ]
    },
    {
      "cell_type": "code",
      "execution_count": null,
      "metadata": {
        "id": "boiARjh3HPeo"
      },
      "outputs": [],
      "source": [
        "flare_info_path=os.path.join(\n",
        "    nlfff_path_dataset_label,\n",
        "    config_label[\"flare_info_path\"]\n",
        ")\n",
        "\n",
        "flare_info=pandas.read_csv(flare_info_path)"
      ]
    },
    {
      "cell_type": "code",
      "execution_count": null,
      "metadata": {
        "colab": {
          "base_uri": "https://localhost:8080/",
          "height": 661
        },
        "id": "UJbRmf5cHbYS",
        "outputId": "878821b8-09b4-4cd5-d2c6-651f864e9f65"
      },
      "outputs": [],
      "source": [
        "flare_info"
      ]
    },
    {
      "cell_type": "markdown",
      "metadata": {
        "id": "PAJ4yLiJA37P"
      },
      "source": [
        "# 使用数据库归档信息"
      ]
    },
    {
      "cell_type": "code",
      "execution_count": null,
      "metadata": {
        "id": "EYxT3zyfA4yJ"
      },
      "outputs": [],
      "source": [
        "import json\n",
        "import sqlite3\n",
        "import os"
      ]
    },
    {
      "cell_type": "markdown",
      "metadata": {
        "id": "TyZ6CrLkA_0y"
      },
      "source": [
        "## 读取配置"
      ]
    },
    {
      "cell_type": "code",
      "execution_count": null,
      "metadata": {
        "id": "KHptYVc7BALI"
      },
      "outputs": [],
      "source": [
        "import os\n",
        "import json\n",
        "\n",
        "# 读取配置文件\n",
        "nlfff_path_dataset_archive=\"nlfff-dataset-and-flare-label-db-archive\"\n",
        "config_path=os.path.join(nlfff_path_dataset_archive,\"config.json\")\n",
        "with open(config_path,\"r\") as f:\n",
        "    config_db=json.loads(f.read())"
      ]
    },
    {
      "cell_type": "code",
      "execution_count": null,
      "metadata": {
        "colab": {
          "base_uri": "https://localhost:8080/"
        },
        "id": "TeW3Oie4BLxq",
        "outputId": "e1e9ab8a-1dd0-4a4e-9b34-394b7044b9dd"
      },
      "outputs": [],
      "source": [
        "config_db"
      ]
    },
    {
      "cell_type": "code",
      "execution_count": null,
      "metadata": {
        "colab": {
          "base_uri": "https://localhost:8080/",
          "height": 37
        },
        "id": "nc3LIMziBmIG",
        "outputId": "fde4df20-c1a3-4139-b402-3cce2d687d08"
      },
      "outputs": [],
      "source": [
        "archive_db_path=os.path.join(\n",
        "    nlfff_path_dataset_archive,\n",
        "    config_db[\"archive_db_path\"]\n",
        ")\n",
        "archive_db_path"
      ]
    },
    {
      "cell_type": "markdown",
      "metadata": {
        "id": "9LMyy3VoBXzU"
      },
      "source": [
        "## 归档文件的基本介绍\n",
        "\n",
        "归档文件存储格式为sqlite数据库文件，包括一下信息：\n",
        "\n",
        "+ 样本原始fits文件头文件信息(time,noaa number)\n",
        "+ 样本的产品信息（nx,ny,nz）\n",
        "+ 样本标签（CMX flare label）\n",
        "+ 耀斑信息（start time）"
      ]
    },
    {
      "cell_type": "markdown",
      "metadata": {
        "id": "MIR3V8jYBe34"
      },
      "source": [
        "### 基本使用\n",
        "\n",
        "查询表及表信息"
      ]
    },
    {
      "cell_type": "code",
      "execution_count": null,
      "metadata": {
        "colab": {
          "base_uri": "https://localhost:8080/"
        },
        "id": "8No3OlCSBjmH",
        "outputId": "99851a31-07e0-47ce-b483-d1846346b343"
      },
      "outputs": [],
      "source": [
        "# 查询存在哪些表\n",
        "query_sql=\"select name from sqlite_master where type='table' order by name; \"\n",
        "table_list=[]\n",
        "with sqlite3.connect(archive_db_path) as conn:\n",
        "   c = conn.cursor()\n",
        "   cursor = c.execute(query_sql)\n",
        "   for table in cursor:\n",
        "      print(table)\n",
        "      table_list.append(table[0])\n",
        "print(table_list)"
      ]
    },
    {
      "cell_type": "code",
      "execution_count": null,
      "metadata": {
        "id": "TDuNLUXFCAFO"
      },
      "outputs": [],
      "source": [
        "# 查询某个表有哪些列\n",
        "table_name=\"nlfff_archive\"\n",
        "query_sql=\"PRAGMA table_info({});\".format(table_name)\n",
        "column_list=[]\n",
        "with sqlite3.connect(archive_db_path) as conn:\n",
        "   c = conn.cursor()\n",
        "   cursor = c.execute(query_sql)\n",
        "   for column in cursor:\n",
        "      print(column)\n",
        "      column_list.append(column[1])\n",
        "print(column_list)"
      ]
    },
    {
      "cell_type": "code",
      "execution_count": null,
      "metadata": {
        "id": "kPA03DdbCApB"
      },
      "outputs": [],
      "source": [
        "# 创建表名和列名的映射字典\n",
        "\n",
        "ktablename_vcolumnlist=dict()\n",
        "\n",
        "for table_name in table_list:\n",
        "   print(table_name)\n",
        "   # table_name=\"nlfff_archive\"\n",
        "   query_sql=\"PRAGMA table_info({});\".format(table_name)\n",
        "   column_list=[]\n",
        "   with sqlite3.connect(archive_db_path) as conn:\n",
        "      c = conn.cursor()\n",
        "      cursor = c.execute(query_sql)\n",
        "      for column in cursor:\n",
        "         # print(column)\n",
        "         column_list.append(column[1])\n",
        "   # print(column_list)\n",
        "   ktablename_vcolumnlist[table_name]=column_list"
      ]
    },
    {
      "cell_type": "code",
      "execution_count": null,
      "metadata": {
        "id": "lH0Am8WHCEvT"
      },
      "outputs": [],
      "source": [
        "ktablename_vcolumnlist"
      ]
    },
    {
      "cell_type": "markdown",
      "metadata": {
        "id": "xw8oFLS6CINY"
      },
      "source": [
        "### 查询表数据"
      ]
    },
    {
      "cell_type": "code",
      "execution_count": null,
      "metadata": {
        "id": "fMy6Z3gnCJg1"
      },
      "outputs": [],
      "source": [
        "# 样本原始fits文件头文件信息(time,noaa number)\n",
        "\n",
        "table_name=\"nlfff_raw\"\n",
        "with sqlite3.connect(archive_db_path) as conn:\n",
        "   c = conn.cursor()\n",
        "\n",
        "   query_sql=\"SELECT *  from {}\".format(table_name)\n",
        "   cursor = c.execute(query_sql)\n",
        "   for row in cursor:\n",
        "      row_data_list=list(row)\n",
        "      row_column_name_list=ktablename_vcolumnlist[table_name]\n",
        "      row_dict=dict(zip(row_column_name_list,row_data_list))\n",
        "      print(row_dict)\n",
        "      break\n"
      ]
    },
    {
      "cell_type": "code",
      "execution_count": null,
      "metadata": {
        "id": "fjepziilCLMf"
      },
      "outputs": [],
      "source": [
        "# 样本的产品信息（nx,ny,nz）\n",
        "\n",
        "table_name=\"nlfff_archive\"\n",
        "with sqlite3.connect(archive_db_path) as conn:\n",
        "   c = conn.cursor()\n",
        "\n",
        "   query_sql=\"SELECT *  from {}\".format(table_name)\n",
        "   cursor = c.execute(query_sql)\n",
        "   for row in cursor:\n",
        "      row_data_list=list(row)\n",
        "      row_column_name_list=ktablename_vcolumnlist[table_name]\n",
        "      row_dict=dict(zip(row_column_name_list,row_data_list))\n",
        "      print(row_dict)\n",
        "      break\n"
      ]
    },
    {
      "cell_type": "code",
      "execution_count": null,
      "metadata": {
        "id": "GVB-awjbCN5t"
      },
      "outputs": [],
      "source": [
        "# 样本标签（CMX flare label）\n",
        "\n",
        "table_name=\"nlfff_flare_label\"\n",
        "with sqlite3.connect(archive_db_path) as conn:\n",
        "   c = conn.cursor()\n",
        "\n",
        "   query_sql=\"SELECT *  from {}\".format(table_name)\n",
        "   cursor = c.execute(query_sql)\n",
        "   for row in cursor:\n",
        "      row_data_list=list(row)\n",
        "      row_column_name_list=ktablename_vcolumnlist[table_name]\n",
        "      row_dict=dict(zip(row_column_name_list,row_data_list))\n",
        "      print(row_dict)\n",
        "      break\n"
      ]
    },
    {
      "cell_type": "code",
      "execution_count": null,
      "metadata": {
        "id": "Zhxa9rSRCPjZ"
      },
      "outputs": [],
      "source": [
        "# 耀斑信息（start time）\n",
        "\n",
        "table_name=\"flare_info\"\n",
        "with sqlite3.connect(archive_db_path) as conn:\n",
        "   c = conn.cursor()\n",
        "\n",
        "   query_sql=\"SELECT *  from {}\".format(table_name)\n",
        "   cursor = c.execute(query_sql)\n",
        "   for row in cursor:\n",
        "      row_data_list=list(row)\n",
        "      row_column_name_list=ktablename_vcolumnlist[table_name]\n",
        "      row_dict=dict(zip(row_column_name_list,row_data_list))\n",
        "      print(row_dict)\n",
        "      break\n"
      ]
    },
    {
      "cell_type": "markdown",
      "metadata": {
        "id": "k2uVLh4LCSi4"
      },
      "source": [
        "### 高级查询\n",
        "\n",
        "+ python 脚本可以使用 pandas + 某个引擎，如 pandas+[sqlalchemy](https://www.sqlalchemy.org)\n",
        "+ 可视化程序，如[dbeaver](https://dbeaver.io)\n",
        "+ 其他语言工具包链接sqlite\n"
      ]
    },
    {
      "cell_type": "markdown",
      "metadata": {
        "id": "txHXyer3HnL2"
      },
      "source": [
        "# 使用单个样本（基本使用）"
      ]
    },
    {
      "cell_type": "markdown",
      "metadata": {
        "id": "Auv1lkO7LR_w"
      },
      "source": [
        "## 基本读取"
      ]
    },
    {
      "cell_type": "markdown",
      "metadata": {
        "id": "TDcr2YjuJfvy"
      },
      "source": [
        "### 获取存储路径和时间"
      ]
    },
    {
      "cell_type": "markdown",
      "metadata": {
        "id": "w4P8D6fNHrNg"
      },
      "source": [
        "使用一个样本最少需要下面信息：\n",
        "\n",
        "+ 非线性无力场数据Bout.bin\n",
        "\n",
        "+ Bout.bin对应的nx，ny，nz\n",
        "\n",
        "+ 样本的harp number 和时间"
      ]
    },
    {
      "cell_type": "code",
      "execution_count": null,
      "metadata": {
        "id": "_oNi3DtBIrTL"
      },
      "outputs": [],
      "source": [
        "# 在数据集摘要信息里面有大于或等于一个样本，\n",
        "# 我们以这个样本为例进行说明\n",
        "\n",
        "# 以0号样本为例，读取已经下载样本的`harpnum_trec`和路径\n",
        "nlfff_path_dataset_summary=\"nlfff-dataset-info\"\n",
        "sample_num=0\n",
        "sample_harpnum_trec=config_ds[\"demo_sample\"][sample_num][\"harpnum_trec\"]\n",
        "sample_path=os.path.join(\n",
        "    nlfff_path_dataset_summary,\n",
        "    config_ds[\"demo_sample\"][sample_num][\"path\"])"
      ]
    },
    {
      "cell_type": "code",
      "execution_count": null,
      "metadata": {
        "colab": {
          "base_uri": "https://localhost:8080/",
          "height": 37
        },
        "id": "u2LMp7s5JP0R",
        "outputId": "cdbd5419-f6a3-4b28-fee7-978938871608"
      },
      "outputs": [],
      "source": [
        "# 样本的harp number 和时间\n",
        "sample_harpnum_trec"
      ]
    },
    {
      "cell_type": "code",
      "execution_count": null,
      "metadata": {
        "colab": {
          "base_uri": "https://localhost:8080/",
          "height": 37
        },
        "id": "vjsUJ5_7J5cV",
        "outputId": "55adc272-5197-49cb-d459-dcb7ac84e678"
      },
      "outputs": [],
      "source": [
        "# Bout path\n",
        "sample_bout_path=os.path.join(sample_path,\"Bout.bin\")\n",
        "sample_bout_path"
      ]
    },
    {
      "cell_type": "markdown",
      "metadata": {
        "id": "DDu_QtFKKnsa"
      },
      "source": [
        "### 获取样本产品文件信息（nx ny nz）"
      ]
    },
    {
      "cell_type": "code",
      "execution_count": null,
      "metadata": {
        "id": "rtFmPbxqKpRF"
      },
      "outputs": [],
      "source": [
        "# 获取样本产品文件信息\n",
        "\n",
        "sample_product_info=product_info[ product_info[\"harpnum_trec\"]==sample_harpnum_trec ]"
      ]
    },
    {
      "cell_type": "code",
      "execution_count": null,
      "metadata": {
        "colab": {
          "base_uri": "https://localhost:8080/",
          "height": 162
        },
        "id": "sociS1h1KuTJ",
        "outputId": "885c37df-2d72-4c9a-dfa9-c3acacc93fec"
      },
      "outputs": [],
      "source": [
        "sample_product_info"
      ]
    },
    {
      "cell_type": "code",
      "execution_count": null,
      "metadata": {
        "id": "eGKjhKQGKxyr"
      },
      "outputs": [],
      "source": [
        "\n",
        "# 样本的最大计算等级 \n",
        "sample_bout_maxlevel=int(sample_product_info[\"bout_maxlevel\"])\n",
        "# 样本的nx，ny，nz分别为\n",
        "sample_nx=int(sample_product_info[\"grid_x\"])\n",
        "sample_ny=int(sample_product_info[\"grid_y\"])\n",
        "sample_nz=int(sample_product_info[\"grid_z\"])\n",
        "# 样本的identifiers为\n",
        "sample_identifiers=int(sample_product_info[\"identifiers\"])"
      ]
    },
    {
      "cell_type": "markdown",
      "metadata": {
        "id": "u3bxM1w8K3rZ"
      },
      "source": [
        "### 读取数据"
      ]
    },
    {
      "cell_type": "code",
      "execution_count": null,
      "metadata": {
        "id": "LZ5qK9SPK2Dp"
      },
      "outputs": [],
      "source": [
        "# 根据 nx ny nz 读取数据\n",
        "import numpy\n",
        "\n",
        "nx=sample_nx\n",
        "ny=sample_ny\n",
        "nz=sample_nz\n",
        "\n",
        "np_dtype_str=r\"<d\"\n",
        "bin_path=os.path.join(sample_path,\"Bout.bin\")\n",
        "\n",
        "# https://numpy.org/doc/stable/reference/generated/numpy.memmap.html\n",
        "nlfff_data = numpy.memmap(sample_bout_path,\n",
        "                dtype=numpy.dtype(np_dtype_str),\n",
        "                offset=0,\n",
        "                shape=(3, nx, ny, nz),\n",
        "                order='C')  "
      ]
    },
    {
      "cell_type": "code",
      "execution_count": null,
      "metadata": {
        "colab": {
          "base_uri": "https://localhost:8080/"
        },
        "id": "17sOOrY_L37z",
        "outputId": "e594292d-e24c-45fd-fdc0-9774d299af36"
      },
      "outputs": [],
      "source": [
        "nlfff_data.shape"
      ]
    },
    {
      "cell_type": "markdown",
      "metadata": {
        "id": "ZRCR-9JqLdzx"
      },
      "source": [
        "## 获取关联信息"
      ]
    },
    {
      "cell_type": "markdown",
      "metadata": {
        "id": "beWykHkVLjfS"
      },
      "source": [
        "### 获取样本原始头文件信息"
      ]
    },
    {
      "cell_type": "code",
      "execution_count": null,
      "metadata": {
        "id": "vjCQWCWVLuJD"
      },
      "outputs": [],
      "source": [
        "# 获取样本原始头文件信息\n",
        "\n",
        "sample_raw_info=raw_info[ raw_info[\"harpnum_trec\"]==sample_harpnum_trec ]"
      ]
    },
    {
      "cell_type": "code",
      "execution_count": null,
      "metadata": {
        "colab": {
          "base_uri": "https://localhost:8080/",
          "height": 226
        },
        "id": "5BuETb37Lz_d",
        "outputId": "b48b8979-17ea-45c1-bf67-e007f49c83c2"
      },
      "outputs": [],
      "source": [
        "sample_raw_info"
      ]
    },
    {
      "cell_type": "markdown",
      "metadata": {
        "id": "vyPGi7jVL9Cg"
      },
      "source": [
        "### 获取标签信息"
      ]
    },
    {
      "cell_type": "code",
      "execution_count": null,
      "metadata": {
        "id": "6RTE2MrKMKEn"
      },
      "outputs": [],
      "source": [
        "# 获取某个样本的标签\n",
        "\n",
        "# sample_harpnum_trec=\"997.20111030_142400_TAI\"\n",
        "sample_label=label_info[label_info[\"harpnum_trec\"]==sample_harpnum_trec]"
      ]
    },
    {
      "cell_type": "code",
      "execution_count": null,
      "metadata": {
        "colab": {
          "base_uri": "https://localhost:8080/",
          "height": 162
        },
        "id": "K4BXkChJMOeW",
        "outputId": "42f50630-fe9a-457f-f985-0ff56d94bebd"
      },
      "outputs": [],
      "source": [
        "# 这个样本的所有标签信息\n",
        "sample_label"
      ]
    },
    {
      "cell_type": "markdown",
      "metadata": {
        "id": "AA3oDT2LMihF"
      },
      "source": [
        "## 获取二级关联信息"
      ]
    },
    {
      "cell_type": "markdown",
      "metadata": {
        "id": "lKvaY0-xMo4F"
      },
      "source": [
        "### 标签对应耀斑信息"
      ]
    },
    {
      "cell_type": "code",
      "execution_count": null,
      "metadata": {
        "id": "5AaZPloZM2pD"
      },
      "outputs": [],
      "source": [
        "# 获取某个有耀斑的正样本样本\n",
        "\n",
        "sample_harpnum_trec_pos=\"997.20111030_142400_TAI\"\n",
        "sample_label_pos=label_info[label_info[\"harpnum_trec\"]==sample_harpnum_trec_pos]"
      ]
    },
    {
      "cell_type": "code",
      "execution_count": null,
      "metadata": {
        "colab": {
          "base_uri": "https://localhost:8080/",
          "height": 162
        },
        "id": "H0jYraqkNEh_",
        "outputId": "7776c155-8c6f-44b3-ef59-bd3214f12b17"
      },
      "outputs": [],
      "source": [
        "# 这个样本的所有标签信息\n",
        "sample_label_pos"
      ]
    },
    {
      "cell_type": "code",
      "execution_count": null,
      "metadata": {
        "id": "bUoDHnSoMt1t"
      },
      "outputs": [],
      "source": [
        "# 进一步也可以获取信息的耀斑信息\n",
        "\n",
        "# 以上面样本12小时内发生耀斑信息为例\n",
        "# 获取上面样本12小时内发生耀斑的id\n",
        "sample_h12_flare_id=int(sample_label_pos[\"h12_flare_id\"])"
      ]
    },
    {
      "cell_type": "code",
      "execution_count": null,
      "metadata": {
        "colab": {
          "base_uri": "https://localhost:8080/"
        },
        "id": "y8D5lTjMNKDx",
        "outputId": "37359169-c864-4f61-9bbd-3f267feaec3c"
      },
      "outputs": [],
      "source": [
        "sample_h12_flare_id"
      ]
    },
    {
      "cell_type": "code",
      "execution_count": null,
      "metadata": {
        "id": "GWeB7_aTNMtc"
      },
      "outputs": [],
      "source": [
        "# 对应耀斑详细信息\n",
        "sample_h12_flare_detail_info=flare_info[flare_info[\"deeps_flare_id\"]==sample_h12_flare_id]"
      ]
    },
    {
      "cell_type": "code",
      "execution_count": null,
      "metadata": {
        "colab": {
          "base_uri": "https://localhost:8080/",
          "height": 162
        },
        "id": "OgaJyNAoNOmq",
        "outputId": "8878d68c-b3cd-429a-f657-d5e0b1746a51"
      },
      "outputs": [],
      "source": [
        "sample_h12_flare_detail_info"
      ]
    },
    {
      "cell_type": "markdown",
      "metadata": {
        "id": "IlMVEv1PN6bb"
      },
      "source": [
        "# 使用单个样本（pynlfff工具包）"
      ]
    },
    {
      "cell_type": "markdown",
      "metadata": {
        "id": "9_3LUxiWOftf"
      },
      "source": [
        "## 工具包初始化"
      ]
    },
    {
      "cell_type": "markdown",
      "metadata": {
        "id": "XPSK3LNkOIAE"
      },
      "source": [
        "### 安装pynlfff工具包\n",
        "\n",
        "\n"
      ]
    },
    {
      "cell_type": "code",
      "execution_count": null,
      "metadata": {
        "colab": {
          "base_uri": "https://localhost:8080/"
        },
        "id": "mva4cAn8ON3_",
        "outputId": "f85ffa46-fc57-4945-e306-4f19ed02e7b2"
      },
      "outputs": [],
      "source": [
        "# 安装最新工具包\n",
        "!pip uninstall pynlfff -y\n",
        "!pip install pynlfff\n",
        "\n",
        "# 导入工具包\n",
        "import pynlfff\n"
      ]
    },
    {
      "cell_type": "markdown",
      "metadata": {
        "id": "cSlJZzBRN9vW"
      },
      "source": [
        "### 安装工具包依赖"
      ]
    },
    {
      "cell_type": "code",
      "execution_count": null,
      "metadata": {
        "colab": {
          "base_uri": "https://localhost:8080/"
        },
        "id": "XSkU3NeYOoaQ",
        "outputId": "7e5143e8-97c7-4255-b320-1a1e7de6f347"
      },
      "outputs": [],
      "source": [
        "# 因为整个工具包依赖比较多，所以没有设置在下载工具包时全部安装\n",
        "\n",
        "# 可以使用下面命令按照需要按照工具包\n",
        "# 创建对象\n",
        "checker=pynlfff.RCheck()\n",
        "# 查看有哪些模块需要安装依赖\n",
        "checker.h()"
      ]
    },
    {
      "cell_type": "code",
      "execution_count": null,
      "metadata": {
        "colab": {
          "base_uri": "https://localhost:8080/"
        },
        "id": "j0tYV4ykOsmd",
        "outputId": "9bf255c5-1f06-44e2-a6b5-93e02d9c4750"
      },
      "outputs": [],
      "source": [
        "# 使用4安装和Product有关的依赖\n",
        "checker.check(4)\n",
        "\n",
        "# 使用0即按照全部依赖\n",
        "checker.check(0)"
      ]
    },
    {
      "cell_type": "markdown",
      "metadata": {
        "id": "rEs0UwSpPNvh"
      },
      "source": [
        "## 数据读取\n",
        "\n"
      ]
    },
    {
      "cell_type": "markdown",
      "metadata": {
        "id": "YkgWtoeBPTOF"
      },
      "source": [
        "### 获取存储路径和时间\n",
        "\n",
        "使用一个样本最少需要下面信息：\n",
        "\n",
        "+ 非线性无力场数据Bout.bin\n",
        "\n",
        "+ Bout.bin对应的nx，ny，nz\n",
        "\n",
        "+ 样本的harp number 和时间"
      ]
    },
    {
      "cell_type": "code",
      "execution_count": null,
      "metadata": {
        "id": "fhH8ne40PR-g"
      },
      "outputs": [],
      "source": [
        "# 在数据集摘要信息里面有大于或等于一个样本，\n",
        "# 我们以这个样本为例进行说明\n",
        "\n",
        "# 以0号样本为例，读取已经下载样本的`harpnum_trec`和路径\n",
        "nlfff_path_dataset_summary=\"nlfff-dataset-info\"\n",
        "sample_num=0\n",
        "sample_harpnum_trec=config_ds[\"demo_sample\"][sample_num][\"harpnum_trec\"]\n",
        "sample_path=os.path.join(\n",
        "    nlfff_path_dataset_summary,\n",
        "    config_ds[\"demo_sample\"][sample_num][\"path\"])"
      ]
    },
    {
      "cell_type": "code",
      "execution_count": null,
      "metadata": {
        "colab": {
          "base_uri": "https://localhost:8080/",
          "height": 37
        },
        "id": "MOyqXbgKPjyu",
        "outputId": "d0da13b2-8fd7-4d8b-dc35-07f9ff1f16df"
      },
      "outputs": [],
      "source": [
        "# 样本的harp number 和时间\n",
        "sample_harpnum_trec"
      ]
    },
    {
      "cell_type": "code",
      "execution_count": null,
      "metadata": {
        "colab": {
          "base_uri": "https://localhost:8080/",
          "height": 37
        },
        "id": "DjgnLBiWPnA8",
        "outputId": "f69beac1-eaa2-473e-a7c3-308759119bfc"
      },
      "outputs": [],
      "source": [
        "# Bout path\n",
        "sample_bout_path=os.path.join(sample_path,\"Bout.bin\")\n",
        "sample_bout_path"
      ]
    },
    {
      "cell_type": "markdown",
      "metadata": {
        "id": "PQRgKyS4Pum9"
      },
      "source": [
        "### 获取样本产品文件信息（nx ny nz）"
      ]
    },
    {
      "cell_type": "code",
      "execution_count": null,
      "metadata": {
        "colab": {
          "base_uri": "https://localhost:8080/",
          "height": 162
        },
        "id": "WskuJfmGPtsR",
        "outputId": "3b6f95a4-2a48-407d-df91-32a33fe12b84"
      },
      "outputs": [],
      "source": [
        "# 获取样本产品文件信息\n",
        "\n",
        "sample_product_info=product_info[ product_info[\"harpnum_trec\"]==sample_harpnum_trec ]\n",
        "sample_product_info"
      ]
    },
    {
      "cell_type": "code",
      "execution_count": null,
      "metadata": {
        "id": "RTkbIr-fP1Z6"
      },
      "outputs": [],
      "source": [
        "\n",
        "# 样本的最大计算等级 \n",
        "sample_bout_maxlevel=int(sample_product_info[\"bout_maxlevel\"])\n",
        "# 样本的nx，ny，nz分别为\n",
        "sample_nx=int(sample_product_info[\"grid_x\"])\n",
        "sample_ny=int(sample_product_info[\"grid_y\"])\n",
        "sample_nz=int(sample_product_info[\"grid_z\"])\n",
        "# 样本的identifiers为\n",
        "sample_identifiers=int(sample_product_info[\"identifiers\"])"
      ]
    },
    {
      "cell_type": "markdown",
      "metadata": {
        "id": "kIzacbGYQDu5"
      },
      "source": [
        "### 读取数据"
      ]
    },
    {
      "cell_type": "code",
      "execution_count": null,
      "metadata": {
        "id": "Gi5DE-7nQGoO"
      },
      "outputs": [],
      "source": [
        "from pynlfff.pyproduct import file\n",
        "\n",
        "# 创建读取对象\n",
        "r=file.NlfffFile()\n",
        "\n"
      ]
    },
    {
      "cell_type": "code",
      "execution_count": null,
      "metadata": {
        "colab": {
          "base_uri": "https://localhost:8080/"
        },
        "id": "GOqpOozJQazY",
        "outputId": "232bfd31-795a-41a0-a44a-59ad0a013c08"
      },
      "outputs": [],
      "source": [
        "r = file.NlfffFile()\n",
        "\n",
        "\n",
        "bout_data = r.read_bin(sample_bout_path, nx=sample_nx,ny=sample_ny,nz=sample_nz)\n",
        "print(bout_data.shape)\n",
        "# print(s)"
      ]
    },
    {
      "cell_type": "code",
      "execution_count": null,
      "metadata": {
        "colab": {
          "base_uri": "https://localhost:8080/"
        },
        "id": "AcUnrhA9FOdc",
        "outputId": "1a7ffe42-9fe7-4775-a3cf-6a91f2a2ebb1"
      },
      "outputs": [],
      "source": [
        "bout_data"
      ]
    },
    {
      "cell_type": "markdown",
      "metadata": {
        "id": "wPIqQXtJQ9ln"
      },
      "source": [
        "## 格式转换"
      ]
    },
    {
      "cell_type": "markdown",
      "metadata": {
        "id": "FgTkbniIRNsc"
      },
      "source": [
        "### 转HDF"
      ]
    },
    {
      "cell_type": "code",
      "execution_count": null,
      "metadata": {
        "colab": {
          "base_uri": "https://localhost:8080/"
        },
        "id": "-4ujz4dfREec",
        "outputId": "24b8da2e-5876-4c5d-f2b4-aaf74a3f4494"
      },
      "outputs": [],
      "source": [
        "r = file.NlfffFile()\n",
        "\n",
        "h5_path = sample_bout_path.replace(\".bin\",\".h5\")\n",
        "\n",
        "r.tran_bin2hdf5(sample_bout_path, h5_path, nx=sample_nx,ny=sample_ny,nz=sample_nz, overwrite=True)"
      ]
    },
    {
      "cell_type": "markdown",
      "metadata": {
        "id": "JA2_3TNPSB7-"
      },
      "source": [
        "## 可视化(dev 注意：可能与colab不兼容)"
      ]
    },
    {
      "cell_type": "markdown",
      "metadata": {
        "id": "O_j9YjdsSE9G"
      },
      "source": [
        "### 三维切割绘制"
      ]
    },
    {
      "cell_type": "markdown",
      "metadata": {
        "id": "mPymDEmDSc3r"
      },
      "source": [
        "#### 创建绘图对象\n",
        "\n"
      ]
    },
    {
      "cell_type": "code",
      "execution_count": null,
      "metadata": {
        "id": "Rdwc0AHjSIPd"
      },
      "outputs": [],
      "source": [
        "%matplotlib inline\n",
        "from pynlfff.pyplot import plot3d_cut\n"
      ]
    },
    {
      "cell_type": "code",
      "execution_count": null,
      "metadata": {
        "colab": {
          "base_uri": "https://localhost:8080/",
          "height": 253
        },
        "id": "FSlYbtoiSsqu",
        "outputId": "4b8eff91-6be0-4d14-cb73-25559944bc89"
      },
      "outputs": [],
      "source": [
        "# 方法1\n",
        "\n",
        "d3_drawer = plot3d_cut.NlfffPlotD3CutCake()"
      ]
    },
    {
      "cell_type": "code",
      "execution_count": null,
      "metadata": {
        "colab": {
          "base_uri": "https://localhost:8080/",
          "height": 357
        },
        "id": "pH9Fz99lSwBK",
        "outputId": "10eb3ca4-da98-4128-80ae-7be44bf6a62d"
      },
      "outputs": [],
      "source": [
        "# 方法2\n",
        "# 其中可以创建时传入`matplotlib.pyplot.figure`的设置参数，如\n",
        "\n",
        "d3_drawer = plot3d_cut.NlfffPlotD3CutCake(figsize=(6, 6))\n"
      ]
    },
    {
      "cell_type": "code",
      "execution_count": null,
      "metadata": {
        "colab": {
          "base_uri": "https://localhost:8080/",
          "height": 357
        },
        "id": "PxDEbkIgS7F2",
        "outputId": "3387bcaa-a6b8-4eab-8d07-c2fb8cea149f"
      },
      "outputs": [],
      "source": [
        "# 方法3\n",
        "# 或者字典形式传入参数\n",
        "\n",
        "di_config = {\n",
        "\t\"figsize\": (6, 6)\n",
        "}\n",
        "d3_drawer = plot3d_cut.NlfffPlotD3CutCake(**di_config)"
      ]
    },
    {
      "cell_type": "markdown",
      "metadata": {
        "id": "ZD-QQORuTZBE"
      },
      "source": [
        "#### 设置绘图对象属性（可选）"
      ]
    },
    {
      "cell_type": "code",
      "execution_count": null,
      "metadata": {
        "id": "W93mgGLVTJw-"
      },
      "outputs": [],
      "source": [
        "# 手动设置色调范围\n",
        "\n",
        "\n",
        "d3_drawer.colormap_set_max=40\n",
        "# 设置最大显示值\n",
        "\n",
        "d3_drawer.colormap_set_max=-30\n",
        "# 设置最小显示值"
      ]
    },
    {
      "cell_type": "code",
      "execution_count": null,
      "metadata": {
        "id": "-ds8XttFT8VX"
      },
      "outputs": [],
      "source": [
        "# 自动设置色调范围\n",
        "\n",
        "\n",
        "d3_drawer.colormap_auto_value=True\n",
        "# 自动求的绘图切面中的最大和最小值\n",
        "\n",
        "d3_drawer.colormap_auto_zip=0.8\n",
        "# 只有colormap_auto_value为True才生效，表示在自动取最值上再进行压缩，压缩比例，取值范围(0,1]，1表示不压缩\n",
        "\n",
        "d3_drawer.colormap_auto_mirror=True\n",
        "# 表示取最值绝对值最大的值为最大值，其相反数为最小值，时得到的调色板关于0对称，注意如果最大值和最小值同为正或同为负，则不生效"
      ]
    },
    {
      "cell_type": "code",
      "execution_count": null,
      "metadata": {
        "id": "mTGywdxnUDnT"
      },
      "outputs": [],
      "source": [
        "# 越界值显示\n",
        "\n",
        "d3_drawer.colormap_out_range_display=True\n",
        "# 默认设为True，越界值按照离得最近的那个最值取；为False，越界值不显示"
      ]
    },
    {
      "cell_type": "code",
      "execution_count": null,
      "metadata": {
        "id": "vgs12YVdUJFn"
      },
      "outputs": [],
      "source": [
        "# 透明度\n",
        "\n",
        "d3_drawer.colormap_alpha=None\n",
        "# 设置None则不透明\n",
        "\n",
        "d3_drawer.colormap_alpha=0.8\n",
        "# 设置整体透明度，取值范围(0,1)\n",
        "\n",
        "d3_drawer.colormap_alpha=\"auto\"\n",
        "# 默认，auto自动透明，即绝对值越小透明程度越高\n"
      ]
    },
    {
      "cell_type": "markdown",
      "metadata": {
        "id": "Hn7Hh5VTUYwM"
      },
      "source": [
        "#### 设置切面交线（可选）"
      ]
    },
    {
      "cell_type": "code",
      "execution_count": null,
      "metadata": {
        "id": "HNffTk10UR7j"
      },
      "outputs": [],
      "source": [
        "# 设置切面边界\n",
        "\n",
        "d3_drawer.cut_line_edges = None\n",
        "#不绘制边界线\n",
        "\n",
        "d3_drawer.cut_line_edges = dict(color='0.6', linewidth=0.6, zorder=1e3) \n",
        "# 默认，设置边界线样式"
      ]
    },
    {
      "cell_type": "code",
      "execution_count": null,
      "metadata": {
        "id": "Srr2KHQAUiUm"
      },
      "outputs": [],
      "source": [
        "# 设置切面交线\n",
        "\n",
        "d3_drawer.cut_line_cross = None\n",
        "# 不绘制切面交叉线\n",
        "\n",
        "d3_drawer.cut_line_cross = dict(color='0.4', linewidth=1, zorder=1e3)\n",
        "# 默认，设置切面交叉线样式"
      ]
    },
    {
      "cell_type": "markdown",
      "metadata": {
        "id": "9kGNgH-UUw6G"
      },
      "source": [
        "#### 加载数据"
      ]
    },
    {
      "cell_type": "code",
      "execution_count": null,
      "metadata": {
        "colab": {
          "base_uri": "https://localhost:8080/"
        },
        "id": "ZSPGEk4GUzag",
        "outputId": "d469f101-a59c-443e-a245-327d9448a4e8"
      },
      "outputs": [],
      "source": [
        "array_data=bout_data.copy()\n",
        "d3_drawer.load_data_array(array_data)"
      ]
    },
    {
      "cell_type": "code",
      "execution_count": null,
      "metadata": {
        "id": "QuSmhvAlxcZq"
      },
      "outputs": [],
      "source": [
        "import numpy as np\n",
        "array_data = np.random.uniform(-5, 5, size=(3, 100,50,40))"
      ]
    },
    {
      "cell_type": "code",
      "execution_count": null,
      "metadata": {
        "colab": {
          "base_uri": "https://localhost:8080/"
        },
        "id": "wFeptASRxrEY",
        "outputId": "b869d6ff-7150-4b75-b8f4-fab2fa1af5ea"
      },
      "outputs": [],
      "source": [
        "d3_drawer.load_data_array(array_data)"
      ]
    },
    {
      "cell_type": "markdown",
      "metadata": {
        "id": "nqxuYZJIVMbb"
      },
      "source": [
        "#### 添加绘图切面"
      ]
    },
    {
      "cell_type": "code",
      "execution_count": null,
      "metadata": {
        "id": "tKafNHYDVaJW"
      },
      "outputs": [],
      "source": [
        "d3_drawer.add_cut(B=\"Bx\", N=\"Nx\", cut_num=None, cut_percent=0.5)"
      ]
    },
    {
      "cell_type": "markdown",
      "metadata": {
        "id": "ZCbG2SvrVear"
      },
      "source": [
        "#### 执行绘图操作"
      ]
    },
    {
      "cell_type": "code",
      "execution_count": null,
      "metadata": {
        "id": "15a4fO2CVhSU"
      },
      "outputs": [],
      "source": [
        "# 使用下面命令开始执行绘图操作，即处理数据，生成图片元素对象，\n",
        "# 但是如果不展示或者保存下来，仍然无法可视化。\n",
        "\n",
        "d3_drawer.run_cut()"
      ]
    },
    {
      "cell_type": "markdown",
      "metadata": {
        "id": "8-N__R5YVrQM"
      },
      "source": [
        "#### 保存或展示图片"
      ]
    },
    {
      "cell_type": "code",
      "execution_count": null,
      "metadata": {
        "colab": {
          "base_uri": "https://localhost:8080/",
          "height": 35
        },
        "id": "FGVskrWgVv5t",
        "outputId": "596caeda-1a5d-49a8-8a89-43b39d66a3f4"
      },
      "outputs": [],
      "source": [
        "# savefig其中传入参数需要满足`matplotlib.pyplot.savefig()`方法的参数要求。\n",
        "picture_path=\"NlfffPlotD3CutCake.png\"\n",
        "d3_drawer.savefig(picture_path)"
      ]
    },
    {
      "cell_type": "code",
      "execution_count": null,
      "metadata": {
        "id": "fJWwzj1sV4K2"
      },
      "outputs": [],
      "source": [
        "# 展示图片\n",
        "d3_drawer.show()"
      ]
    },
    {
      "cell_type": "markdown",
      "metadata": {
        "id": "wsU5YjkeSTcz"
      },
      "source": [
        "### 三维体绘制"
      ]
    },
    {
      "cell_type": "code",
      "execution_count": null,
      "metadata": {
        "id": "pxdkjP1F6Hdj"
      },
      "outputs": [],
      "source": [
        "import os\n"
      ]
    },
    {
      "cell_type": "code",
      "execution_count": null,
      "metadata": {
        "colab": {
          "base_uri": "https://localhost:8080/"
        },
        "id": "wFQ2JjxGXjnt",
        "outputId": "943ecba4-64c4-4510-b1c6-ea4769ff4304"
      },
      "outputs": [],
      "source": [
        "%matplotlib inline\n",
        "\n",
        "is_with_gui=False\n",
        "\n",
        "if is_with_gui:\n",
        "  from pynlfff.pyplot import plot3d_body\n",
        "  import numpy as np\n",
        "  out_dir=\"./\"\n",
        "  try:\n",
        "    array_data = np.random.uniform(-5, 5, size=(3, 100,50,40))\n",
        "    dataBout=array_data#.copy()\n",
        "    result=plot3d_body.main_draw_3d_body(\n",
        "        dataBout,out_dir,axis_name=['bx','by','bz']\n",
        "    )\n",
        "  except BaseException as e:\n",
        "    print(e)\n",
        "print(\"VTK 绘制依赖gui\")"
      ]
    },
    {
      "cell_type": "markdown",
      "metadata": {
        "id": "yO-Hi5Mc-INN"
      },
      "source": [
        "# 更多样本获取方法"
      ]
    },
    {
      "cell_type": "markdown",
      "metadata": {
        "id": "gpwLVu4d-fya"
      },
      "source": [
        "## 方法1 通过官方网站查询下载\n",
        "\n",
        "访问<https://nlfff.dataset.deepsolar.space/>的下载页面，找到**在线查询下载**相关网站"
      ]
    },
    {
      "cell_type": "markdown",
      "metadata": {
        "id": "PACgN-Qb-mPU"
      },
      "source": [
        "## 方法2 通过identifiers跳转在线查看样本"
      ]
    },
    {
      "cell_type": "code",
      "execution_count": null,
      "metadata": {
        "colab": {
          "base_uri": "https://localhost:8080/"
        },
        "id": "YE6jHqOT-XEL",
        "outputId": "aba170ce-e25b-4aff-895e-c5e440f8bb8f"
      },
      "outputs": [],
      "source": [
        "# sample identifiers可以从产品信息表里面获得\n",
        "\n",
        "sample_identifiers=7327201812200936003\n",
        "# 其中 7327(harp number)20181220(date)093600(time)3(Max grid level).\n",
        "sample_url=\"https://identifiers.org/nlfff:{}\".format(sample_identifiers)\n",
        "print(\"访问 {} 查看样本详细信息及下载\".format(sample_url))"
      ]
    },
    {
      "cell_type": "markdown",
      "metadata": {
        "id": "K7zLjhp3_Z33"
      },
      "source": [
        "## 方法3 在线申请邮寄硬盘拷贝\n",
        "\n",
        "对于需要使用大量样本的研究者，我们推荐使用硬盘邮寄的方式。\n",
        "\n",
        "可以访问访问<https://nlfff.dataset.deepsolar.space/>的**联系**页面，通过邮件沟通邮寄地址收件人等具体细节。"
      ]
    }
  ],
  "metadata": {
    "colab": {
      "provenance": [],
      "toc_visible": true
    },
    "kernelspec": {
      "display_name": "base",
      "language": "python",
      "name": "python3"
    },
    "language_info": {
      "codemirror_mode": {
        "name": "ipython",
        "version": 3
      },
      "file_extension": ".py",
      "mimetype": "text/x-python",
      "name": "python",
      "nbconvert_exporter": "python",
      "pygments_lexer": "ipython3",
      "version": "3.9.7"
    },
    "vscode": {
      "interpreter": {
        "hash": "e09d260679fbc904e8c4f7a442660056144c93e55ec5ae3ef4b1fbb761b78c9e"
      }
    }
  },
  "nbformat": 4,
  "nbformat_minor": 0
}
